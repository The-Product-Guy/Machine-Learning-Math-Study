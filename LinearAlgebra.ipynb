{
  "nbformat": 4,
  "nbformat_minor": 0,
  "metadata": {
    "colab": {
      "provenance": [],
      "toc_visible": true,
      "authorship_tag": "ABX9TyODqohdG7cDXm/K+Hm/fCTB",
      "include_colab_link": true
    },
    "kernelspec": {
      "name": "python3",
      "display_name": "Python 3"
    },
    "language_info": {
      "name": "python"
    }
  },
  "cells": [
    {
      "cell_type": "markdown",
      "metadata": {
        "id": "view-in-github",
        "colab_type": "text"
      },
      "source": [
        "<a href=\"https://colab.research.google.com/github/The-Product-Guy/Machine-Learning-Math-Study/blob/main/LinearAlgebra.ipynb\" target=\"_parent\"><img src=\"https://colab.research.google.com/assets/colab-badge.svg\" alt=\"Open In Colab\"/></a>"
      ]
    },
    {
      "cell_type": "code",
      "execution_count": null,
      "metadata": {
        "id": "rEn1cARAYd7C"
      },
      "outputs": [],
      "source": []
    },
    {
      "cell_type": "markdown",
      "source": [
        "# Vectors"
      ],
      "metadata": {
        "id": "Z_h8zTttY4D4"
      }
    },
    {
      "cell_type": "markdown",
      "source": [
        "1. Linear Algebra: The Foundation"
      ],
      "metadata": {
        "id": "JUZjKE77ZB2Z"
      }
    },
    {
      "cell_type": "markdown",
      "source": [
        "1.1 Vectors:"
      ],
      "metadata": {
        "id": "33bsxpT4ZRNB"
      }
    },
    {
      "cell_type": "markdown",
      "source": [
        "\n",
        "\n",
        "1.   Explanation: A vector is a quantity that has both magnitude and direction. In mathematics, we often represent vectors as ordered lists of numbers. For example, [1, 2, 3] is a vector in 3-dimensional space. In machine learning, vectors are used to represent data points, features, and model parameters.\n",
        "\n",
        "---\n",
        "\n",
        "\n",
        "2.   Analogy: Imagine a treasure map. The instructions \"Go 5 steps east, then 3 steps north\" define a vector. The magnitude is the total distance you traveled (if you went in a straight line), and the direction is the angle you traveled relative to North. In ML, an image can be treated as a long vector, each element representing pixel intensity or colour channel values.\n",
        "\n"
      ],
      "metadata": {
        "id": "XFWOPQ3CZU4w"
      }
    },
    {
      "cell_type": "code",
      "source": [
        "# Install numpy in colab if you have not\n",
        "# pip install numpy\n",
        "import numpy as np\n",
        "\n",
        "# Creating vectors\n",
        "vector_row = np.array([1, 2, 3])  # Row vector\n",
        "vector_column = np.array([[1], [2], [3]])  # Column vector\n",
        "\n",
        "print(\"Row Vector:\", vector_row)\n",
        "print(\"Column Vector:\\n\", vector_column)\n",
        "\n",
        "# Vector operations\n",
        "a = np.array([1, 2, 3])\n",
        "b = np.array([4, 5, 6])\n",
        "\n",
        "# Addition\n",
        "addition = a + b\n",
        "print(\"Addition:\", addition)\n",
        "\n",
        "# Scalar multiplication\n",
        "scalar = 2\n",
        "scalar_multiplication = scalar * a\n",
        "print(\"Scalar Multiplication:\", scalar_multiplication)\n",
        "\n",
        "# Dot product\n",
        "dot_product = np.dot(a, b)\n",
        "print(\"Dot Product:\", dot_product)"
      ],
      "metadata": {
        "colab": {
          "base_uri": "https://localhost:8080/"
        },
        "id": "4dtoRaxxZoXb",
        "outputId": "2e5c09ac-157c-4f90-cf74-023df02efcc2"
      },
      "execution_count": 1,
      "outputs": [
        {
          "output_type": "stream",
          "name": "stdout",
          "text": [
            "Row Vector: [1 2 3]\n",
            "Column Vector:\n",
            " [[1]\n",
            " [2]\n",
            " [3]]\n",
            "Addition: [5 7 9]\n",
            "Scalar Multiplication: [2 4 6]\n",
            "Dot Product: 32\n"
          ]
        }
      ]
    }
  ]
}